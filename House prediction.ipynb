{
 "cells": [
  {
   "cell_type": "code",
   "execution_count": 1,
   "id": "15b75092-e99a-4275-a404-430953cf2aa7",
   "metadata": {},
   "outputs": [
    {
     "name": "stdout",
     "output_type": "stream",
     "text": [
      "Dataset:\n",
      "    SquareFootage  Bedrooms  Bathrooms   Price\n",
      "0           1000         2          1  150000\n",
      "1           1500         3          2  200000\n",
      "2           2000         3          2  250000\n",
      "3           2500         4          3  300000\n",
      "4           3000         4          3  350000\n",
      "\n",
      "📋 Linear Regression Performance:\n",
      "MAE: 2.9103830456733704e-11\n",
      "MSE: 8.470329472543003e-22\n",
      "R2 Score: nan\n",
      "\n",
      "📋 Decision Tree Regressor Performance:\n",
      "MAE: 50000.0\n",
      "MSE: 2500000000.0\n",
      "R2 Score: nan\n"
     ]
    },
    {
     "name": "stderr",
     "output_type": "stream",
     "text": [
      "C:\\Users\\kirth\\anaconda3\\Lib\\site-packages\\sklearn\\metrics\\_regression.py:918: UndefinedMetricWarning: R^2 score is not well-defined with less than two samples.\n",
      "  warnings.warn(msg, UndefinedMetricWarning)\n",
      "C:\\Users\\kirth\\anaconda3\\Lib\\site-packages\\sklearn\\metrics\\_regression.py:918: UndefinedMetricWarning: R^2 score is not well-defined with less than two samples.\n",
      "  warnings.warn(msg, UndefinedMetricWarning)\n"
     ]
    }
   ],
   "source": [
    "# 🏡 House Price Prediction Using Machine Learning\n",
    "\n",
    "# 📚 Import Libraries\n",
    "import pandas as pd\n",
    "import numpy as np\n",
    "from sklearn.model_selection import train_test_split\n",
    "from sklearn.linear_model import LinearRegression\n",
    "from sklearn.tree import DecisionTreeRegressor\n",
    "from sklearn.metrics import mean_absolute_error, mean_squared_error, r2_score\n",
    "\n",
    "# 📥 Load Dataset (Example: You can replace this with your own CSV file)\n",
    "# Creating a simple sample dataset for demonstration\n",
    "data = {\n",
    "    'SquareFootage': [1000, 1500, 2000, 2500, 3000],\n",
    "    'Bedrooms': [2, 3, 3, 4, 4],\n",
    "    'Bathrooms': [1, 2, 2, 3, 3],\n",
    "    'Price': [150000, 200000, 250000, 300000, 350000]\n",
    "}\n",
    "\n",
    "df = pd.DataFrame(data)\n",
    "\n",
    "# 📊 Explore Dataset\n",
    "print(\"Dataset:\\n\", df)\n",
    "\n",
    "# 🎯 Features and Target\n",
    "X = df[['SquareFootage', 'Bedrooms', 'Bathrooms']]\n",
    "y = df['Price']\n",
    "\n",
    "# 🔀 Train-Test Split\n",
    "X_train, X_test, y_train, y_test = train_test_split(X, y, test_size=0.2, random_state=42)\n",
    "\n",
    "# 📈 Model 1: Linear Regression\n",
    "lr_model = LinearRegression()\n",
    "lr_model.fit(X_train, y_train)\n",
    "lr_predictions = lr_model.predict(X_test)\n",
    "\n",
    "# 📉 Model 2: Decision Tree Regressor\n",
    "dt_model = DecisionTreeRegressor(random_state=42)\n",
    "dt_model.fit(X_train, y_train)\n",
    "dt_predictions = dt_model.predict(X_test)\n",
    "\n",
    "# 📊 Evaluation Function\n",
    "def evaluate_model(y_true, y_pred, model_name):\n",
    "    print(f\"\\n📋 {model_name} Performance:\")\n",
    "    print(\"MAE:\", mean_absolute_error(y_true, y_pred))\n",
    "    print(\"MSE:\", mean_squared_error(y_true, y_pred))\n",
    "    print(\"R2 Score:\", r2_score(y_true, y_pred))\n",
    "\n",
    "# 📊 Evaluate Both Models\n",
    "evaluate_model(y_test, lr_predictions, \"Linear Regression\")\n",
    "evaluate_model(y_test, dt_predictions, \"Decision Tree Regressor\")\n"
   ]
  },
  {
   "cell_type": "code",
   "execution_count": null,
   "id": "979de883-4161-4513-b4c3-f3af91120d73",
   "metadata": {},
   "outputs": [],
   "source": []
  }
 ],
 "metadata": {
  "kernelspec": {
   "display_name": "Python 3 (ipykernel)",
   "language": "python",
   "name": "python3"
  },
  "language_info": {
   "codemirror_mode": {
    "name": "ipython",
    "version": 3
   },
   "file_extension": ".py",
   "mimetype": "text/x-python",
   "name": "python",
   "nbconvert_exporter": "python",
   "pygments_lexer": "ipython3",
   "version": "3.11.7"
  }
 },
 "nbformat": 4,
 "nbformat_minor": 5
}
